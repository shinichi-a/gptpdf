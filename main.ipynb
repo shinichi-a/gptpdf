{
 "cells": [
  {
   "cell_type": "code",
   "execution_count": 16,
   "metadata": {},
   "outputs": [],
   "source": [
    "import os\n",
    "import platform\n",
    "\n",
    "import openai\n",
    "import chromadb\n",
    "import langchain\n",
    "\n",
    "from langchain.embeddings.openai import OpenAIEmbeddings\n",
    "from langchain.vectorstores import Chroma\n",
    "from langchain.text_splitter import CharacterTextSplitter\n",
    "from langchain.chat_models import ChatOpenAI\n",
    "from langchain.chains import ConversationalRetrievalChain\n",
    "from langchain.document_loaders import PyPDFLoader"
   ]
  },
  {
   "cell_type": "code",
   "execution_count": 17,
   "metadata": {},
   "outputs": [],
   "source": [
    "loader = PyPDFLoader(\"crm.pdf\")\n",
    "pages = loader.load_and_split()"
   ]
  },
  {
   "cell_type": "code",
   "execution_count": 24,
   "metadata": {},
   "outputs": [],
   "source": [
    "os.environ[\"OPENAI_API_KEY\"] = ''\n",
    "openai.api_key = os.getenv(\"OPENAI_API_KEY\")\n",
    "llm = ChatOpenAI(temperature=0, model_name=\"gpt-4\")"
   ]
  },
  {
   "cell_type": "code",
   "execution_count": 19,
   "metadata": {},
   "outputs": [
    {
     "name": "stderr",
     "output_type": "stream",
     "text": [
      "Using embedded DuckDB with persistence: data will be stored in: .\n"
     ]
    }
   ],
   "source": [
    "embeddings = OpenAIEmbeddings()\n",
    "vectorstore = Chroma.from_documents(pages, embedding=embeddings, persist_directory=\".\")\n",
    "vectorstore.persist()"
   ]
  },
  {
   "cell_type": "code",
   "execution_count": 21,
   "metadata": {},
   "outputs": [],
   "source": [
    "pdf_qa = ConversationalRetrievalChain.from_llm(llm, vectorstore.as_retriever(), return_source_documents=True)"
   ]
  },
  {
   "cell_type": "code",
   "execution_count": 32,
   "metadata": {},
   "outputs": [
    {
     "data": {
      "text/plain": [
       "'概要：\\nこの文章はCRMに関する技術的な情報を含む文章です。CRMの概要や、CRMとIT、マーケティングとの関係、そしてCRMに関するハイライトについて言及しています。また、この文章には1948年から2004年までの時系列情報が含まれています。\\n\\n技術的なハイライト：\\n・CRMシステム\\n・CRMの商業利用\\n・マーケティングオートメーション\\n\\n分類キーワード：\\n・CRM\\n・マーケティング\\n・IT'"
      ]
     },
     "execution_count": 32,
     "metadata": {},
     "output_type": "execute_result"
    }
   ],
   "source": [
    "query = \"\"\"与えられた文章を以下のフォーマットで日本語で出力してください。```\n",
    "\n",
    "・概要\n",
    "\n",
    "・技術的なハイライト\n",
    "　・ハイライト１\n",
    "　・ハイライト２\n",
    "　・ハイライト３\n",
    "\n",
    "・分類キーワード\n",
    "　・キーワード１\n",
    "　・キーワード２\n",
    "　・キーワード３\n",
    "```\"\"\"\n",
    "chat_history = []\n",
    "\n",
    "result = pdf_qa({\"question\": query, \"chat_history\": chat_history})\n",
    "\n",
    "result['answer']"
   ]
  }
 ],
 "metadata": {
  "kernelspec": {
   "display_name": "Python 3",
   "language": "python",
   "name": "python3"
  },
  "language_info": {
   "codemirror_mode": {
    "name": "ipython",
    "version": 3
   },
   "file_extension": ".py",
   "mimetype": "text/x-python",
   "name": "python",
   "nbconvert_exporter": "python",
   "pygments_lexer": "ipython3",
   "version": "3.10.4"
  },
  "orig_nbformat": 4
 },
 "nbformat": 4,
 "nbformat_minor": 2
}
